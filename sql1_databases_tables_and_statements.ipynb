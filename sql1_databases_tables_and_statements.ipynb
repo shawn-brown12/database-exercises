{
 "cells": [
  {
   "cell_type": "markdown",
   "id": "304f028e",
   "metadata": {},
   "source": [
    "# SQL Notes"
   ]
  },
  {
   "cell_type": "markdown",
   "id": "3e8cc615",
   "metadata": {},
   "source": [
    "## Vocabulary"
   ]
  },
  {
   "cell_type": "markdown",
   "id": "3ea3fd44",
   "metadata": {},
   "source": [
    "- RDBMS: The software that manages the data, i.e. handles it's storage and retrieval. Runs the database server  \n",
    "- Database: Sometimes used interchangably with a DBMS; The actual location of the data stored on disk; You won't interact with this directly, but rather, through the DBMS.  \n",
    "- Database Client: a program that can be used to connect to a database. Each database usually comes with an officially sanctioned command line client, and there are many different GUI database clients as well.  \n",
    "- Database Server: a computer that runs the DBMS and stores the data, typically either on-premises or in the cloud.  \n",
    "- DDL: Data definition language; commands that change the structure of the database or the DBMS itself, or change the structure of tables in the database. We will not be focusing on this part of SQL.  \n",
    "- DML: Data manipulation language; used to insert, update, delete, and retrieve information from databases. We will be focusing on the the retrieval part of this.\n",
    "\n",
    "- Data Types:  \n",
    "    -- `INT` : Any number without a decimal\n",
    "    -- `FLOAT` : A number *with* a decimal point\n",
    "    -- `DECIMAL` : A *precise* decimal number. A decimeal column has a defined length and a precision, which is the total number of digits after the decimal place. Example - A column defined as `DECIMAL (4, 2)` would have four digits total, two of those being after the decimal place.   \n",
    "    -- `UNSIGNED` : When declaring a numeric column, we can specify that the values are `UNSIGNED`, meaning that there are only positive values. A normal `INT` column can store a number from `-2,147,483,684` to `2,147,483,684`, and an `INT UNSIGNED` stores from `0` to `4,294,967,295`  \n",
    "    -- `BOOLEAN` : A `BOOLEAN` is generally either a `0` or a `1`, where `0` is `False` and `1` is `True`  \n",
    "    \n",
    "    -- `STRING TYPES` :\n",
    "    \n",
    "    -- `CHAR(length)` : A string with a fized number of characters, form 1 to 255. If a string stored under this method is les than 255, it is padded with empty space to take up the full size. Any more characters returns an error    \n",
    "    -- `VARCHAR(length)` : For strings where the length could be anything up to some maximum number. Technically can go up to 65,535, but it is recommended that if you need to go beyond 255, you use `TEXT` instead    \n",
    "    -- `TEXT` : A large block of characters that can be any length. There are some technical. limitations to `TEXT` that give it performance issues if abused, and should only be used for large blocks of text, like an entire article, or pages of a book  \n",
    "    \n",
    "    -- `DATE TYPES` :\n",
    "    \n",
    "    -- `DATE` : A date value without any time, usually displayed as `YYYY-MM-DD`  \n",
    "    -- `TIME` : A time down to the scond, usually using 24 hour time.   \n",
    "    -- `DATETIME` : A combined date and time value, doesn't store any time zone data and uses the `YYYY-MM-DD HH:MM:SS` format.   \n",
    "    \n",
    "    -- `NULL` : Null has a special meaning in databases; In most languages, a `NULL` acts as a 0, and actually is a 0 in some of them, but in SQL is technically the *absence of a value* \n",
    "        "
   ]
  },
  {
   "cell_type": "markdown",
   "id": "d5feb8fa",
   "metadata": {},
   "source": [
    "## Creating Tables\n",
    "\n",
    "The syntax for creating a table is relatively simple:\n",
    "\n",
    "```sql\n",
    "CREATE TABLE quotes (\n",
    "    author_first_name VARCHAR(50),\n",
    "    author_last_name VARCHAR(100) NOT NULL, \n",
    "    content TEXT NOT NULL\n",
    ");\n",
    "```\n",
    "\n",
    "Here we allowed the `author_first_name` to be null, but `author_last_name` and `content` are both mandatory. This example isn't quite complete, though. \n",
    "\n",
    "```sql\n",
    "CREATE TABLE quotes (\n",
    "    id INT UNSIGNED NOT NULL AUTO_INCREMENT,\n",
    "    author_first_name VARCHAR(50),\n",
    "    author_last_name  VARCHAR(100) NOT NULL,\n",
    "    content TEXT NOT NULL,\n",
    "    PRIMARY KEY (id)\n",
    ");\n",
    "```\n",
    "In this, we've added a primaery key to our table, that being the id column. In a primary key column, each value must be unique, cannot be null, and there can only be one primary key in a table. We've added the commaned `AUTO_INCREMEMNT` so that the column starts at 1 and counts upward for each entry.  \n",
    "Later on, when working with multiple tables in a database we'll find that a foreign key is a column in a table that is a primary key in another table within the database."
   ]
  },
  {
   "cell_type": "markdown",
   "id": "b79b7e60",
   "metadata": {},
   "source": [
    "## Basic Functionality with Tables\n",
    "\n",
    "To show a table within your SQL GUI, you will simply use the query:\n",
    "\n",
    "```sql\n",
    "SHOW TABLES;\n",
    "```\n",
    "\n",
    "You can also use: \n",
    "\n",
    "```sql\n",
    "DESCRIBE table_name;\n",
    "```\n",
    "\n",
    "This gives some basic information on the table you're asking to be described, like column names, and their corrosponding data types, if they can contain `NULL` values, if they have a key value, ect.  \n",
    "\n",
    "MySQL uses `EXPLAIN` and `DESCRIBE` interchangeably. By convention you would generally use `DESCRIBE` when inspecting a table, and `EXPLAIN` when analyzing a query.  \n",
    "You can also use:\n",
    "\n",
    "```sql\n",
    "SHOW CREATE TABLE table_name;\n",
    "```\n",
    "\n",
    "This will show you the original code that was written to make the table."
   ]
  },
  {
   "cell_type": "markdown",
   "id": "8c811817",
   "metadata": {},
   "source": [
    "## Basic Statements\n",
    "\n",
    "To comment your code in SQL, there a few things you can use. For a single line, you'd use `#` or `--`, and for multiple lines you'd start with /* and end your comment with */\n",
    "\n",
    "```sql\n",
    "\n",
    "#Like this\n",
    "\n",
    "-- Or this\n",
    "\n",
    "/* \n",
    "Or\n",
    "Like\n",
    "This\n",
    "*/\n",
    "```\n",
    "\n",
    "Use `SELECT` to find and return rows from specific columns with your table or tables. You can use a `*` to tell SQL that you want every column from a table.   \n",
    "Use `FROM` to tell SQL where the informatiomn in your `SELECT` is coming from.  \n",
    "Every statement *needs* a `SELECT` and `FROM`.\n",
    "\n",
    "Example:\n",
    "\n",
    "```sql\n",
    "SELECT column1, column2\n",
    "FROM table_name;\n",
    "```\n",
    "\n",
    "Using the `SELECT DISTINCT` statement will eliminate all duplicate values from the output.  \n",
    "You can also use a `WHERE` clause to filter your ouput by specifying a condition that has to be true for any given row to be displayed.  \n",
    "\n",
    "Example:\n",
    "\n",
    "```sql\n",
    "SELECT *\n",
    "FROM table_name\n",
    "WHERE id >= 7;\n",
    "```"
   ]
  },
  {
   "cell_type": "markdown",
   "id": "c2d1f010",
   "metadata": {},
   "source": [
    "### Operators\n",
    "\n"
   ]
  },
  {
   "cell_type": "markdown",
   "id": "3ce09ad8",
   "metadata": {},
   "source": [
    "Basic operators are pretty self explanatory:\n",
    "- `=` equal\n",
    "- `!=` or `<>` not equal\n",
    "- `<` less than\n",
    "- `>` greater than\n",
    "- `<=` less than or equal to\n",
    "- `>=` greater than or equal to\n",
    "- `BETWEEN value1 AND value2` greater than or equal to value 1 and less than or equal to value 2\n",
    "\n",
    "All of these can be used as part of a `WHERE` clause, or even with a `SELECT`. Using these with `SELECT` will return a boolean value, telling you whether the staement is true or false."
   ]
  },
  {
   "cell_type": "markdown",
   "id": "af3d52cc",
   "metadata": {},
   "source": [
    "### Misc Output and Aliases\n",
    "\n",
    "Sometimes it's useful to output some arbitrary data from a SQL script.\n",
    "\n",
    "Example:\n",
    "```sql\n",
    "SELECT 'I am output!' AS Info;\n",
    "```\n",
    "\n",
    "This will give us a very basic table with the column name `Info` and the row stating 'I am output!'\n",
    "\n",
    "You can `ALIAS` a table, column, or miscellaneous piece of a query. If the name contains spaces, you must enclose it in quotes `''`. Otherwise, they're not needed. Since aliases are normally used for efficiency, best practice is to use an underscore rather than a space. "
   ]
  },
  {
   "cell_type": "markdown",
   "id": "e08eac21",
   "metadata": {},
   "source": [
    "An example would be:\n",
    "\n",
    "```sql\n",
    "SELECT 1 + 1 AS two;\n",
    "```\n",
    "\n",
    "This would return something like this:\n",
    "\n",
    "+-----+  \n",
    "| two |  \n",
    "+-----+  \n",
    "|   2 |  \n",
    "+-----+  \n",
    "\n",
    "Or: \n",
    "\n",
    "```sql\n",
    "SELECT id, name AS low_quantity_fruit, \n",
    "       quantity AS inventory\n",
    "FROM fruits\n",
    "WHERE quantity < 4;\n",
    "```"
   ]
  },
  {
   "cell_type": "markdown",
   "id": "ee1b8556",
   "metadata": {},
   "source": [
    "## Slightly more Advanced Statements"
   ]
  },
  {
   "cell_type": "markdown",
   "id": "5f7b3624",
   "metadata": {},
   "source": [
    "### `WHERE` Clauses\n",
    "\n",
    "As mentioned above, the `WHERE` clause can filter the output of the SQL query.  \n",
    "You can use `AND` and `OR`, or even comparision operators to add layers of complexity to the statement.  \n",
    "\n",
    "Examples:\n",
    "\n",
    "```sql\n",
    "SELECT *\n",
    "FROM table_name\n",
    "WHERE hire_date = '1985-01-01';\n",
    "\n",
    "SELECT *\n",
    "FROM table_name\n",
    "WHERE hire_date < '9999-01-01';\n",
    "\n",
    "SELECT *\n",
    "FROM table_name \n",
    "WHERE emp_no >= 11000;\n",
    "```\n",
    "\n",
    "You can use `LIKE` to find similarities instead of exact matches. You would use it with a `%`, which is known as a wildcard. The wildcard can be in front of, at the end of, or on both ends of a statement to determine how you want to specify your filter. If the wildcard precedes the filter, like this: `'%i'`, it will return anything that ends with an 'i'. The opposite, `'i%'`, would return anything that begins with an 'i'. Alternatively, you could simply have a wildcard on either side of a filter, like below:\n",
    "\n",
    "```sql\n",
    "SELECT *\n",
    "FROM employees\n",
    "WHERE first_name LIKE '%sus%';\n",
    "```\n",
    "\n",
    "You can use `AND` and `OR` to filter based on one or more statements being true or false, like below:\n",
    "\n",
    "```sql\n",
    "SELECT *\n",
    "FROM table_name\n",
    "WHERE emp_no BETWEEN 10026 AND 10055;\n",
    "```\n",
    "\n",
    "```sql\n",
    "SELECT *\n",
    "FROM table_name\n",
    "WHERE emp_no 10026 OR 10055;\n",
    "```\n",
    "\n",
    "You can even return everything from within a list, using the `IN` clause:\n",
    "\n",
    "```sql\n",
    "SELECT *\n",
    "FROM table_name\n",
    "WHERE last_name IN ('Brown', 'Granger', 'Solo', 'Baggins');\n",
    "```\n",
    "\n",
    "You can also check to see if values are `NULL` or `NOT NULL`, like so:\n",
    "\n",
    "```sql\n",
    "SELECT *\n",
    "FROM table_name\n",
    "WHERE to_date IS NOT NULL;\n",
    "```\n",
    "\n",
    "Or the inverse:\n",
    "\n",
    "```sql\n",
    "SELECT *\n",
    "FROM table_name\n",
    "WHERE to_date IS NULL;\n",
    "```\n",
    "\n",
    "To get more complex or complete results, you can chain together `WHERE` clauses:\n",
    "\n",
    "```sql\n",
    "SELECT *\n",
    "FROM table_name\n",
    "WHERE last_name IN ('Brown', 'Granger')\n",
    "    AND emp_no < 20000;\n",
    "```\n",
    "\n",
    "You can force evaluation grouping using `()`:\n",
    "\n",
    "```sql\n",
    "SELECT * \n",
    "FROM table_name\n",
    "WHERE emp_no < 20000\n",
    "    AND (\n",
    "        last_name IN ('Brown', 'Granger')\n",
    "    OR first_name = 'Hermione'\n",
    "        );\n",
    "```"
   ]
  },
  {
   "cell_type": "markdown",
   "id": "9d7c7d6d",
   "metadata": {},
   "source": [
    "### `ORDER BY` Clauses"
   ]
  },
  {
   "cell_type": "markdown",
   "id": "80538c29",
   "metadata": {},
   "source": [
    "`ORDER BY` does exactly that, orders your results by something you specify:\n",
    "\n",
    "```sql\n",
    "SELECT first_name, last_name,\n",
    "FROM table_name\n",
    "ORDER BY last_name;\n",
    "```\n",
    "\n",
    "The default sort order is ascending, but you can specify if you'd like:\n",
    "\n",
    "```sql\n",
    "SELECT first_name, last_name\n",
    "FROM table_name\n",
    "ORDER BY last_name DESC;\n",
    "```\n",
    "\n",
    "You *can* specify `ASC`, but as that's the default, there's no need unless you want it for clarity's sake. You can also chain `ORDER BY` clauses like so:\n",
    "\n",
    "```sql\n",
    "SELECT first_name, last_name\n",
    "FROM table_name\n",
    "ORDER BY last_name DESC, first_name ASC;\n",
    "```"
   ]
  },
  {
   "cell_type": "markdown",
   "id": "32659aa3",
   "metadata": {},
   "source": [
    "### `LIMIT` Clauses"
   ]
  },
  {
   "cell_type": "markdown",
   "id": "42117b6e",
   "metadata": {},
   "source": [
    "`LIMIT` is simple, it just limits your ouput. It is also the very last thing in your SQL statement:\n",
    "\n",
    "```sql\n",
    "SELECT *\n",
    "FROM table_name\n",
    "LIMIT 100;\n",
    "```\n",
    "\n",
    "The one other thing with a `LIMIT` is `OFFSET`. `OFFSET` tells sql which row to start with. It's most often used for pagination, or creating pages of data. It looks like this:\n",
    "\n",
    "```sql\n",
    "SELECT * \n",
    "FROM table_name\n",
    "WHERE first_name LIKE 'M%'\n",
    "LIMIT 25 OFFSET 50;\n",
    "```"
   ]
  },
  {
   "cell_type": "markdown",
   "id": "d8ed2caf",
   "metadata": {},
   "source": [
    "## Functions"
   ]
  },
  {
   "cell_type": "markdown",
   "id": "e597747d",
   "metadata": {},
   "source": [
    "MySQL has a lot of built-in functions and functionality we can use. We're only going over a selection of important functions in class, so that's what I'll include here:\n",
    "\n",
    "String Functions:\n",
    "\n",
    "- `CONCAT`\n",
    "- `LIKE` and `NOT LIKE`\n",
    "- `SUBSTR`\n",
    "- Case conversion with `UPPER` and `LOWER` \n",
    "- `REPLACE`\n",
    "\n",
    "Date and Time Functions:\n",
    "\n",
    "- `NOW`\n",
    "- `CURDATE`\n",
    "- `CURTIME`\n",
    "- `UNIX TIMESTAMP()`\n",
    "\n",
    "Numerial Functions:\n",
    "\n",
    "- `AVG`\n",
    "- `MIN`\n",
    "- `MAX`\n",
    "\n",
    "Casting:\n",
    "\n",
    "- Casting technically isn't a function call, but it's related. You can cast one data type to another. For the most part, SQL will be able to tell if it's a number or string. "
   ]
  },
  {
   "cell_type": "markdown",
   "id": "c9624c11",
   "metadata": {},
   "source": [
    "   ###  String Functions"
   ]
  },
  {
   "cell_type": "markdown",
   "id": "236b83c5",
   "metadata": {},
   "source": [
    "`CONCAT()` takes in any number of columns names or string and concatenates them together:\n",
    "\n",
    "```sql\n",
    "SELECT CONCAT (\"Hello ', 'Codeup', '!');\n",
    "```\n",
    "\n",
    "This will return something like this:\n",
    "\n",
    "+---------------------------------+  \n",
    "| CONCAT('Hello ', 'Codeup', '!') |  \n",
    "+---------------------------------+  \n",
    "| Hello Codeup!                   |  \n",
    "+---------------------------------+  \n"
   ]
  },
  {
   "cell_type": "markdown",
   "id": "88e6f458",
   "metadata": {},
   "source": [
    "`LIKE`, as mentioned earlier, is used with `WHERE` to find similarites:\n",
    "\n",
    "```sql\n",
    "SELECT first_name\n",
    "FROM table_name \n",
    "WHERE first_name LIKE '%sus%';\n",
    "```\n",
    "\n",
    "`NOT LIKE` will return results that do *not* match the pattern:\n",
    "\n",
    "```sql\n",
    "SELECT first_name\n",
    "from table_name\n",
    "WHERE first_name NOT LIKE '%a%';\n",
    "```\n",
    "\n",
    "This will return all first names without the letter 'a' in them."
   ]
  },
  {
   "cell_type": "markdown",
   "id": "16e732ff",
   "metadata": {},
   "source": [
    "`SUBSTR()` can extract a part of a string as a substring. You have to supply the string you're wanting to manipulate, the starting index, which is where in the string you want to start, and the length of the substring, or the number of characters to extract:\n",
    "\n",
    "```sql\n",
    "SELECT SUBSTR('abcdefghi', 2, 4);\n",
    "```\n",
    "\n",
    "This will take in the string 'abcdefghi', go to the second index, 'b', and from there take four characters, which will return 'bcde' in the end."
   ]
  },
  {
   "cell_type": "markdown",
   "id": "ffb581e4",
   "metadata": {},
   "source": [
    "Case Conversion is rather self explanatory, `UPPER()` will convert everything to uppercase, and `LOWER()` will convert everything to lowercase. \n",
    "\n",
    "```sql\n",
    "SELECT UPPER ('abcde'), LOWER ('ABCDE');\n",
    "```\n",
    "\n",
    "This would return something like this:\n",
    "\n",
    "+----------------+----------------+  \n",
    "| UPPER('abcde') | LOWER('ABCDE') |  \n",
    "+----------------+----------------+  \n",
    "| ABCDE          | abcde          |  \n",
    "+----------------+----------------+  \n",
    "1 row in set (0.09 sec)  \n"
   ]
  },
  {
   "cell_type": "markdown",
   "id": "0b4e7205",
   "metadata": {},
   "source": [
    "`REPLACE()` lets you manipulate strings by replacing substrings. The general form for this looks like so:\n",
    "\n",
    "REPLACE(subject, search, replacement)\n",
    "\n",
    "```sql \n",
    "SELECT REPLACE('abcdefg', 'abc', '123');\n",
    "```\n",
    "\n",
    "This will return something like so:\n",
    "\n",
    "+----------------------------------+  \n",
    "| REPLACE('abcdefg', 'abc', '123') |  \n",
    "+----------------------------------+  \n",
    "| 123defg                          |  \n",
    "+----------------------------------+  \n",
    "1 row in set (0.05 sec)\n"
   ]
  },
  {
   "cell_type": "markdown",
   "id": "bfec44ee",
   "metadata": {},
   "source": [
    "### Date and Time Functions"
   ]
  },
  {
   "cell_type": "markdown",
   "id": "a2216b78",
   "metadata": {},
   "source": [
    "`NOW()` returns the current time in a `YYYY-MM-DD HH:MM:SS` format"
   ]
  },
  {
   "cell_type": "markdown",
   "id": "e4b89f8c",
   "metadata": {},
   "source": [
    "`CURDATE()` returns just the date and no time in the same format"
   ]
  },
  {
   "cell_type": "markdown",
   "id": "007aaa92",
   "metadata": {},
   "source": [
    "`CURTIME()` does the same, but with the time"
   ]
  },
  {
   "cell_type": "markdown",
   "id": "447f8513",
   "metadata": {},
   "source": [
    "`UNIX TIMESTAMP()` is used to represent time as an integer. It counts the number of seconds since January 1st, 1970. If you pass a date time value to `UNIX TIMESTAMP()`, it gives you the number of seconds to that date.\n",
    "\n",
    "```sql\n",
    "SELECT CONCAT(\n",
    "    'Teaching people to code for ',\n",
    "    UNIX TIMESTAMP() - UNIX TIMESTAMP('2014-02-04'),\n",
    "    'seconds'\n",
    "    );\n",
    "```\n",
    "\n",
    "This will return something like this:\n",
    "\n",
    "Teaching people to code for 280272040 seconds"
   ]
  },
  {
   "cell_type": "markdown",
   "id": "c18e5493",
   "metadata": {},
   "source": [
    "### Numerical Functions"
   ]
  },
  {
   "cell_type": "markdown",
   "id": "48007e1c",
   "metadata": {},
   "source": [
    "You can perform many commom mathematical operations on sequences in SQL. Some examples of use:\n",
    "\n",
    "```sql\n",
    "SELECT MIN(emp_no)\n",
    "FROM table_name;\n",
    "```\n",
    "\n",
    "This will return the smallest employee number from the table\n",
    "\n",
    "```sql\n",
    "SELECT AVG(emp_no) \n",
    "FROM table_name;\n",
    "```\n",
    "\n",
    "This will return the average of the employee numbers from the table. Not particularly useful, in this case, but can be extremely useful.\n",
    "\n",
    "```sql\n",
    "SELECT MAX(emp_no)\n",
    "FROM table_name;\n",
    "```\n",
    "\n",
    "This will return the highest employee number within the table.\n"
   ]
  },
  {
   "cell_type": "markdown",
   "id": "44057674",
   "metadata": {},
   "source": [
    "## `GROUP BY` Clauses"
   ]
  },
  {
   "cell_type": "markdown",
   "id": "4f9f1376",
   "metadata": {},
   "source": [
    "Grouping results based on the data in columns will remove duplicates, like using `DISTINCT`, but it's more versatile. You can use `GROUP BY` in combination with aggregate functions. "
   ]
  },
  {
   "cell_type": "markdown",
   "id": "1b17e1f7",
   "metadata": {},
   "source": []
  },
  {
   "cell_type": "markdown",
   "id": "6955d32a",
   "metadata": {},
   "source": []
  },
  {
   "cell_type": "markdown",
   "id": "99ca4f8a",
   "metadata": {},
   "source": []
  },
  {
   "cell_type": "markdown",
   "id": "fa7b1e92",
   "metadata": {},
   "source": []
  },
  {
   "cell_type": "markdown",
   "id": "fc3a6543",
   "metadata": {},
   "source": []
  },
  {
   "cell_type": "markdown",
   "id": "df8fe763",
   "metadata": {},
   "source": []
  }
 ],
 "metadata": {
  "kernelspec": {
   "display_name": "Python 3 (ipykernel)",
   "language": "python",
   "name": "python3"
  },
  "language_info": {
   "codemirror_mode": {
    "name": "ipython",
    "version": 3
   },
   "file_extension": ".py",
   "mimetype": "text/x-python",
   "name": "python",
   "nbconvert_exporter": "python",
   "pygments_lexer": "ipython3",
   "version": "3.9.15"
  },
  "toc": {
   "base_numbering": 1,
   "nav_menu": {},
   "number_sections": true,
   "sideBar": true,
   "skip_h1_title": false,
   "title_cell": "Table of Contents",
   "title_sidebar": "Contents",
   "toc_cell": false,
   "toc_position": {
    "height": "calc(100% - 180px)",
    "left": "10px",
    "top": "150px",
    "width": "174.002px"
   },
   "toc_section_display": true,
   "toc_window_display": true
  }
 },
 "nbformat": 4,
 "nbformat_minor": 5
}
