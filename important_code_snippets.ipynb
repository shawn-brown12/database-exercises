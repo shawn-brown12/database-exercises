{
 "cells": [
  {
   "cell_type": "markdown",
   "id": "fb38ccf7",
   "metadata": {},
   "source": [
    "# Important and useful pieces of code and functions"
   ]
  },
  {
   "cell_type": "code",
   "execution_count": null,
   "id": "590a7a84",
   "metadata": {},
   "outputs": [],
   "source": [
    "#important libraries\n",
    "import pandas as pd\n",
    "import numpy as np\n",
    "import seaborn as sns\n",
    "import matplotlib.pyplot as plt\n",
    "from pydataset import data\n",
    "import os\n",
    "import math\n",
    "\n",
    "#important function for connecting to Codeup Mysql server\n",
    "from env import get_connection\n",
    "\n",
    "#.py files with useful functions for Codeup lessons/exercises/projects\n",
    "import acquire\n",
    "import prepare\n",
    "\n",
    "#scikitlearn imports\n",
    "from sklearn.model_selection import train_test_split\n",
    "from sklearn.tree import DecisionTreeClassifier, plot_tree\n",
    "from sklearn.metrics import classification_report, confusion_matrix\n",
    "from sklearn.impute import SimpleImputer\n",
    "from sklearn import metrics\n",
    "\n",
    "#will turn off the limit for showing columns in pandas\n",
    "pd.options.display.max_columns = None\n",
    "\n",
    "#turn off the pink warning boxes\n",
    "import warnings\n",
    "warnings.filterwarnings('ignore')\n",
    "\n",
    "#shows a plot or graph without having to type out plt.show() every time when you run a cell\n",
    "%matplotlib inline"
   ]
  },
  {
   "cell_type": "code",
   "execution_count": null,
   "id": "19f6da19",
   "metadata": {},
   "outputs": [],
   "source": [
    "db_url = f'mysql+pymysql://{env.user}:{env.password}@{env.host}/db_name'\n",
    "query = 'sql_query_here'    \n",
    "df = pd.read_sql(query, db_url)"
   ]
  },
  {
   "cell_type": "code",
   "execution_count": null,
   "id": "56f05779",
   "metadata": {},
   "outputs": [],
   "source": [
    "#Creating pandas dataframes\n",
    "#From a dictionary \n",
    "pd.DataFrame({'A': [1, 2, 3], 'B': [4, 5, 6]})\n",
    "#From a list \n",
    "pd.DataFrame([[1, 2, 3], [4, 5, 6]])\n",
    "#From an array\n",
    "array = np.array([[1, 2, 3], [4, 5, 6]])\n",
    "pd.DataFrame(array, columns=['a', 'b', 'c'])\n",
    "\n",
    "#when importing data (from pydataset, at least), a useful thing to do is to read the documentation via this code\n",
    "data(df_string_name, show_doc=True)\n",
    "#and running this will load the dataset\n",
    "df = data(df_string_name)"
   ]
  },
  {
   "cell_type": "code",
   "execution_count": null,
   "id": "746dbdb0",
   "metadata": {},
   "outputs": [],
   "source": [
    "#how to use pandas to pull a dataframe from a csv file and assign a variable name\n",
    "\n",
    "df = pd.read_csv('filename.csv')\n",
    "\n",
    "#pandas basic supported visualizations\n",
    "\n",
    "boxplot = df.boxplot(fontsize = 10, by='column_name')\n",
    "scatterplot = df.plot.scatter(x = 'column1', y = 0, xlabel = \"how we want to label x axis\")\n",
    "histogram = df.plot.hist(x=, bins = 4, alpha = 0.5, edgecolor='')\n",
    "histogram = df.groupby('what_youre_grouping_by')['what_youre_plotting'].hist(bins=20)\n"
   ]
  },
  {
   "cell_type": "code",
   "execution_count": null,
   "id": "82eaaf41",
   "metadata": {},
   "outputs": [],
   "source": [
    "#basic skeleton for plot creation\n",
    "\n",
    "#configuration for higher resolution screens\n",
    "#%config InLineBackend.figure_format = \n",
    "\n",
    "#set a figure size\n",
    "plt.figure(figsize = (0, 0))\n",
    "\n",
    "#if you need a subplot\n",
    "#plt.subplot(000)\n",
    "#need this on top of each different subplot\n",
    "\n",
    "#generate x values\n",
    "x = []\n",
    "\n",
    "#calculate the y value\n",
    "y = []\n",
    "\n",
    "#plot the data\n",
    "##can set alpha values for levels of transparency\n",
    "plt.plot(x, y)\n",
    "#simply add more lines to add more plots\n",
    "\n",
    "#customize the chart\n",
    "plt.title('')\n",
    "plt.xlabel('')\n",
    "plt.ylabel('')\n",
    "\n",
    "#adding annotation\n",
    "plt.annotate('Example', xy = (0,0), xytext = (0, 3000), arrowprops = {})\n",
    "\n",
    "#one way to get x and y limits\n",
    "plt.xlim(0, 10)\n",
    "plt.ylim(0, 10)\n",
    "#alternate way to set x and y limits\n",
    "plt.axis([0,10, 0, 10])\n",
    "\n",
    "#grid lines\n",
    "plt.grid(True, ls='--')\n",
    "\n",
    "#sets legend\n",
    "plt.legend()\n",
    "\n",
    "#sets padding around subplots\n",
    "plt.tight_layout()\n",
    "\n",
    "#save the figure\n",
    "plt.savefig('figure1')"
   ]
  }
 ],
 "metadata": {
  "kernelspec": {
   "display_name": "Python 3 (ipykernel)",
   "language": "python",
   "name": "python3"
  },
  "language_info": {
   "codemirror_mode": {
    "name": "ipython",
    "version": 3
   },
   "file_extension": ".py",
   "mimetype": "text/x-python",
   "name": "python",
   "nbconvert_exporter": "python",
   "pygments_lexer": "ipython3",
   "version": "3.9.15"
  },
  "toc": {
   "base_numbering": 1,
   "nav_menu": {},
   "number_sections": true,
   "sideBar": true,
   "skip_h1_title": false,
   "title_cell": "Table of Contents",
   "title_sidebar": "Contents",
   "toc_cell": false,
   "toc_position": {},
   "toc_section_display": true,
   "toc_window_display": false
  }
 },
 "nbformat": 4,
 "nbformat_minor": 5
}
